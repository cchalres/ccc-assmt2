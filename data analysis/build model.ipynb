{
 "cells": [
  {
   "cell_type": "markdown",
   "metadata": {},
   "source": [
    "# Group50 Yicheng Wang(980542)"
   ]
  },
  {
   "cell_type": "code",
   "execution_count": 1,
   "metadata": {},
   "outputs": [],
   "source": [
    "import numpy as np \n",
    "import pandas as pd"
   ]
  },
  {
   "cell_type": "code",
   "execution_count": 2,
   "metadata": {},
   "outputs": [],
   "source": [
    "mid0 = pd.read_csv(\"df_mid0.csv\")\n",
    "mid0 = mid0.dropna()\n",
    "mid0 = mid0.drop(columns=['Unnamed: 0'])\n",
    "\n",
    "\n",
    "west0 = pd.read_csv(\"df_west0.csv\")\n",
    "west0 = west0.dropna()\n",
    "west0 = west0.drop(columns=['Unnamed: 0'])\n",
    "\n",
    "\n",
    "east0 = pd.read_csv(\"df_east0.csv\")\n",
    "east0 = east0.dropna()\n",
    "east0 = east0.drop(columns=['Unnamed: 0'])"
   ]
  },
  {
   "cell_type": "code",
   "execution_count": 3,
   "metadata": {},
   "outputs": [],
   "source": [
    "mid1 = pd.read_csv(\"df_mid1.csv\")\n",
    "mid1 = mid1.dropna()\n",
    "mid1 = mid1.drop(columns=['Unnamed: 0'])\n",
    "\n",
    "\n",
    "west1 = pd.read_csv(\"df_west1.csv\")\n",
    "west1 = west1.dropna()\n",
    "west1 = west1.drop(columns=['Unnamed: 0'])\n",
    "\n",
    "\n",
    "east1 = pd.read_csv(\"df_east1.csv\")\n",
    "east1 = east1.dropna()\n",
    "east1 = east1.drop(columns=['Unnamed: 0'])"
   ]
  },
  {
   "cell_type": "code",
   "execution_count": 4,
   "metadata": {},
   "outputs": [],
   "source": [
    "mid0[\"text length\"]= mid0[\"value_x\"].str.len()\n",
    "east0[\"text length\"]= east0[\"value_x\"].str.len()\n",
    "west0[\"text length\"]= west0[\"value_x\"].str.len()\n",
    "mid1[\"text length\"]= mid1[\"value_x\"].str.len()\n",
    "east1[\"text length\"]= east1[\"value_x\"].str.len()\n",
    "west1[\"text length\"]= west1[\"value_x\"].str.len()"
   ]
  },
  {
   "cell_type": "code",
   "execution_count": 5,
   "metadata": {},
   "outputs": [],
   "source": [
    "hour = []\n",
    "for i in range(len(mid0['value_x'])):\n",
    "    hour_cur =  int(mid0['time'][i][11:13])\n",
    "    hour.append(hour_cur)\n",
    "mid0[\"hour\"] = hour \n",
    "\n",
    "hour = []\n",
    "for i in range(len(west0['value_x'])):\n",
    "    hour_cur =  int(west0['time'][i][11:13])\n",
    "    hour.append(hour_cur)\n",
    "west0[\"hour\"] = hour \n",
    "\n",
    "hour = []\n",
    "for i in range(len(east0['value_x'])):\n",
    "    hour_cur =  int(east0['time'][i][11:13])\n",
    "    hour.append(hour_cur)\n",
    "east0[\"hour\"] = hour \n",
    "\n",
    "hour = []\n",
    "for i in range(len(mid1['value_x'])):\n",
    "    hour_cur =  int(mid1['time'][i][11:13])\n",
    "    hour.append(hour_cur)\n",
    "mid1[\"hour\"] = hour \n",
    "\n",
    "hour = []\n",
    "for i in range(len(west1['value_x'])):\n",
    "    hour_cur =  int(west1['time'][i][11:13])\n",
    "    hour.append(hour_cur)\n",
    "west1[\"hour\"] = hour \n",
    "\n",
    "hour = []\n",
    "for i in range(len(east1['value_x'])):\n",
    "    hour_cur =  int(east1['time'][i][11:13])\n",
    "    hour.append(hour_cur)\n",
    "east1[\"hour\"] = hour "
   ]
  },
  {
   "cell_type": "code",
   "execution_count": 6,
   "metadata": {},
   "outputs": [],
   "source": [
    "df_zero = pd.concat([mid0, east0, west0])\n",
    "df_one = pd.concat([mid1, east1, west1])"
   ]
  },
  {
   "cell_type": "code",
   "execution_count": 7,
   "metadata": {},
   "outputs": [],
   "source": [
    "df_zero = df_zero.drop(columns=['value_x'])\n",
    "df_one = df_one.drop(columns=['value_x'])"
   ]
  },
  {
   "cell_type": "code",
   "execution_count": 8,
   "metadata": {},
   "outputs": [],
   "source": [
    "df_zero = df_zero.drop(columns=['time'])\n",
    "df_one = df_one.drop(columns=['time'])"
   ]
  },
  {
   "cell_type": "code",
   "execution_count": 9,
   "metadata": {},
   "outputs": [
    {
     "data": {
      "text/html": [
       "<div>\n",
       "<style scoped>\n",
       "    .dataframe tbody tr th:only-of-type {\n",
       "        vertical-align: middle;\n",
       "    }\n",
       "\n",
       "    .dataframe tbody tr th {\n",
       "        vertical-align: top;\n",
       "    }\n",
       "\n",
       "    .dataframe thead th {\n",
       "        text-align: right;\n",
       "    }\n",
       "</style>\n",
       "<table border=\"1\" class=\"dataframe\">\n",
       "  <thead>\n",
       "    <tr style=\"text-align: right;\">\n",
       "      <th></th>\n",
       "      <th>id</th>\n",
       "      <th>value_y</th>\n",
       "      <th>group</th>\n",
       "      <th>language</th>\n",
       "      <th>follower</th>\n",
       "      <th>friend</th>\n",
       "      <th>text length</th>\n",
       "      <th>hour</th>\n",
       "    </tr>\n",
       "  </thead>\n",
       "  <tbody>\n",
       "    <tr>\n",
       "      <th>0</th>\n",
       "      <td>1394965330578055168</td>\n",
       "      <td>-0.333333</td>\n",
       "      <td>mid</td>\n",
       "      <td>en</td>\n",
       "      <td>29</td>\n",
       "      <td>1389</td>\n",
       "      <td>142</td>\n",
       "      <td>10</td>\n",
       "    </tr>\n",
       "    <tr>\n",
       "      <th>1</th>\n",
       "      <td>1394965332650045441</td>\n",
       "      <td>-0.063889</td>\n",
       "      <td>mid</td>\n",
       "      <td>en</td>\n",
       "      <td>545</td>\n",
       "      <td>906</td>\n",
       "      <td>142</td>\n",
       "      <td>10</td>\n",
       "    </tr>\n",
       "    <tr>\n",
       "      <th>2</th>\n",
       "      <td>1394965334239629315</td>\n",
       "      <td>0.500000</td>\n",
       "      <td>mid</td>\n",
       "      <td>en</td>\n",
       "      <td>52</td>\n",
       "      <td>65</td>\n",
       "      <td>35</td>\n",
       "      <td>10</td>\n",
       "    </tr>\n",
       "    <tr>\n",
       "      <th>3</th>\n",
       "      <td>1394965335762210823</td>\n",
       "      <td>-0.500000</td>\n",
       "      <td>mid</td>\n",
       "      <td>en</td>\n",
       "      <td>44</td>\n",
       "      <td>79</td>\n",
       "      <td>142</td>\n",
       "      <td>10</td>\n",
       "    </tr>\n",
       "    <tr>\n",
       "      <th>4</th>\n",
       "      <td>1394965341005045760</td>\n",
       "      <td>0.012500</td>\n",
       "      <td>mid</td>\n",
       "      <td>en</td>\n",
       "      <td>668</td>\n",
       "      <td>280</td>\n",
       "      <td>96</td>\n",
       "      <td>10</td>\n",
       "    </tr>\n",
       "    <tr>\n",
       "      <th>...</th>\n",
       "      <td>...</td>\n",
       "      <td>...</td>\n",
       "      <td>...</td>\n",
       "      <td>...</td>\n",
       "      <td>...</td>\n",
       "      <td>...</td>\n",
       "      <td>...</td>\n",
       "      <td>...</td>\n",
       "    </tr>\n",
       "    <tr>\n",
       "      <th>265</th>\n",
       "      <td>1395534098538504192</td>\n",
       "      <td>-0.316667</td>\n",
       "      <td>west</td>\n",
       "      <td>en</td>\n",
       "      <td>333</td>\n",
       "      <td>438</td>\n",
       "      <td>37</td>\n",
       "      <td>0</td>\n",
       "    </tr>\n",
       "    <tr>\n",
       "      <th>266</th>\n",
       "      <td>1395537708622127105</td>\n",
       "      <td>0.075000</td>\n",
       "      <td>west</td>\n",
       "      <td>en</td>\n",
       "      <td>190</td>\n",
       "      <td>1534</td>\n",
       "      <td>142</td>\n",
       "      <td>0</td>\n",
       "    </tr>\n",
       "    <tr>\n",
       "      <th>267</th>\n",
       "      <td>1395538595960659972</td>\n",
       "      <td>0.600000</td>\n",
       "      <td>west</td>\n",
       "      <td>en</td>\n",
       "      <td>190</td>\n",
       "      <td>1534</td>\n",
       "      <td>81</td>\n",
       "      <td>0</td>\n",
       "    </tr>\n",
       "    <tr>\n",
       "      <th>268</th>\n",
       "      <td>1395542204479787013</td>\n",
       "      <td>0.116667</td>\n",
       "      <td>west</td>\n",
       "      <td>en</td>\n",
       "      <td>333</td>\n",
       "      <td>438</td>\n",
       "      <td>60</td>\n",
       "      <td>0</td>\n",
       "    </tr>\n",
       "    <tr>\n",
       "      <th>269</th>\n",
       "      <td>1395545141771857923</td>\n",
       "      <td>0.136364</td>\n",
       "      <td>west</td>\n",
       "      <td>en</td>\n",
       "      <td>333</td>\n",
       "      <td>438</td>\n",
       "      <td>92</td>\n",
       "      <td>1</td>\n",
       "    </tr>\n",
       "  </tbody>\n",
       "</table>\n",
       "<p>19025 rows × 8 columns</p>\n",
       "</div>"
      ],
      "text/plain": [
       "                      id   value_y group language  follower  friend  \\\n",
       "0    1394965330578055168 -0.333333   mid       en        29    1389   \n",
       "1    1394965332650045441 -0.063889   mid       en       545     906   \n",
       "2    1394965334239629315  0.500000   mid       en        52      65   \n",
       "3    1394965335762210823 -0.500000   mid       en        44      79   \n",
       "4    1394965341005045760  0.012500   mid       en       668     280   \n",
       "..                   ...       ...   ...      ...       ...     ...   \n",
       "265  1395534098538504192 -0.316667  west       en       333     438   \n",
       "266  1395537708622127105  0.075000  west       en       190    1534   \n",
       "267  1395538595960659972  0.600000  west       en       190    1534   \n",
       "268  1395542204479787013  0.116667  west       en       333     438   \n",
       "269  1395545141771857923  0.136364  west       en       333     438   \n",
       "\n",
       "     text length  hour  \n",
       "0            142    10  \n",
       "1            142    10  \n",
       "2             35    10  \n",
       "3            142    10  \n",
       "4             96    10  \n",
       "..           ...   ...  \n",
       "265           37     0  \n",
       "266          142     0  \n",
       "267           81     0  \n",
       "268           60     0  \n",
       "269           92     1  \n",
       "\n",
       "[19025 rows x 8 columns]"
      ]
     },
     "execution_count": 9,
     "metadata": {},
     "output_type": "execute_result"
    }
   ],
   "source": [
    "df_one"
   ]
  },
  {
   "cell_type": "code",
   "execution_count": 10,
   "metadata": {},
   "outputs": [],
   "source": [
    "df_one['group'] = df_one['group'].astype('category')\n",
    "df_one['group'] = df_one['group'].cat.reorder_categories(['mid', 'east', 'west'], ordered=True)\n",
    "df_one['group'] = df_one['group'].cat.codes"
   ]
  },
  {
   "cell_type": "code",
   "execution_count": 11,
   "metadata": {},
   "outputs": [],
   "source": [
    "df_one['language'] = df_one['language'].astype('category')\n",
    "df_one['language'] = df_one['language'].cat.reorder_categories(df_one['language'].unique(), ordered=True)\n",
    "df_one['language'] = df_one['language'].cat.codes"
   ]
  },
  {
   "cell_type": "code",
   "execution_count": 12,
   "metadata": {},
   "outputs": [],
   "source": [
    "df_one['hour'] = df_one['hour'].astype('category')\n",
    "df_one['hour'] = df_one['hour'].cat.reorder_categories(df_one['hour'].unique(), ordered=True)\n",
    "df_one['hour'] = df_one['hour'].cat.codes"
   ]
  },
  {
   "cell_type": "code",
   "execution_count": 13,
   "metadata": {},
   "outputs": [
    {
     "data": {
      "text/html": [
       "<div>\n",
       "<style scoped>\n",
       "    .dataframe tbody tr th:only-of-type {\n",
       "        vertical-align: middle;\n",
       "    }\n",
       "\n",
       "    .dataframe tbody tr th {\n",
       "        vertical-align: top;\n",
       "    }\n",
       "\n",
       "    .dataframe thead th {\n",
       "        text-align: right;\n",
       "    }\n",
       "</style>\n",
       "<table border=\"1\" class=\"dataframe\">\n",
       "  <thead>\n",
       "    <tr style=\"text-align: right;\">\n",
       "      <th></th>\n",
       "      <th>id</th>\n",
       "      <th>value_y</th>\n",
       "      <th>group</th>\n",
       "      <th>language</th>\n",
       "      <th>follower</th>\n",
       "      <th>friend</th>\n",
       "      <th>text length</th>\n",
       "      <th>hour</th>\n",
       "    </tr>\n",
       "  </thead>\n",
       "  <tbody>\n",
       "    <tr>\n",
       "      <th>0</th>\n",
       "      <td>1394965330578055168</td>\n",
       "      <td>-0.333333</td>\n",
       "      <td>0</td>\n",
       "      <td>0</td>\n",
       "      <td>29</td>\n",
       "      <td>1389</td>\n",
       "      <td>142</td>\n",
       "      <td>0</td>\n",
       "    </tr>\n",
       "    <tr>\n",
       "      <th>1</th>\n",
       "      <td>1394965332650045441</td>\n",
       "      <td>-0.063889</td>\n",
       "      <td>0</td>\n",
       "      <td>0</td>\n",
       "      <td>545</td>\n",
       "      <td>906</td>\n",
       "      <td>142</td>\n",
       "      <td>0</td>\n",
       "    </tr>\n",
       "    <tr>\n",
       "      <th>2</th>\n",
       "      <td>1394965334239629315</td>\n",
       "      <td>0.500000</td>\n",
       "      <td>0</td>\n",
       "      <td>0</td>\n",
       "      <td>52</td>\n",
       "      <td>65</td>\n",
       "      <td>35</td>\n",
       "      <td>0</td>\n",
       "    </tr>\n",
       "    <tr>\n",
       "      <th>3</th>\n",
       "      <td>1394965335762210823</td>\n",
       "      <td>-0.500000</td>\n",
       "      <td>0</td>\n",
       "      <td>0</td>\n",
       "      <td>44</td>\n",
       "      <td>79</td>\n",
       "      <td>142</td>\n",
       "      <td>0</td>\n",
       "    </tr>\n",
       "    <tr>\n",
       "      <th>4</th>\n",
       "      <td>1394965341005045760</td>\n",
       "      <td>0.012500</td>\n",
       "      <td>0</td>\n",
       "      <td>0</td>\n",
       "      <td>668</td>\n",
       "      <td>280</td>\n",
       "      <td>96</td>\n",
       "      <td>0</td>\n",
       "    </tr>\n",
       "    <tr>\n",
       "      <th>...</th>\n",
       "      <td>...</td>\n",
       "      <td>...</td>\n",
       "      <td>...</td>\n",
       "      <td>...</td>\n",
       "      <td>...</td>\n",
       "      <td>...</td>\n",
       "      <td>...</td>\n",
       "      <td>...</td>\n",
       "    </tr>\n",
       "    <tr>\n",
       "      <th>265</th>\n",
       "      <td>1395534098538504192</td>\n",
       "      <td>-0.316667</td>\n",
       "      <td>2</td>\n",
       "      <td>0</td>\n",
       "      <td>333</td>\n",
       "      <td>438</td>\n",
       "      <td>37</td>\n",
       "      <td>21</td>\n",
       "    </tr>\n",
       "    <tr>\n",
       "      <th>266</th>\n",
       "      <td>1395537708622127105</td>\n",
       "      <td>0.075000</td>\n",
       "      <td>2</td>\n",
       "      <td>0</td>\n",
       "      <td>190</td>\n",
       "      <td>1534</td>\n",
       "      <td>142</td>\n",
       "      <td>21</td>\n",
       "    </tr>\n",
       "    <tr>\n",
       "      <th>267</th>\n",
       "      <td>1395538595960659972</td>\n",
       "      <td>0.600000</td>\n",
       "      <td>2</td>\n",
       "      <td>0</td>\n",
       "      <td>190</td>\n",
       "      <td>1534</td>\n",
       "      <td>81</td>\n",
       "      <td>21</td>\n",
       "    </tr>\n",
       "    <tr>\n",
       "      <th>268</th>\n",
       "      <td>1395542204479787013</td>\n",
       "      <td>0.116667</td>\n",
       "      <td>2</td>\n",
       "      <td>0</td>\n",
       "      <td>333</td>\n",
       "      <td>438</td>\n",
       "      <td>60</td>\n",
       "      <td>21</td>\n",
       "    </tr>\n",
       "    <tr>\n",
       "      <th>269</th>\n",
       "      <td>1395545141771857923</td>\n",
       "      <td>0.136364</td>\n",
       "      <td>2</td>\n",
       "      <td>0</td>\n",
       "      <td>333</td>\n",
       "      <td>438</td>\n",
       "      <td>92</td>\n",
       "      <td>22</td>\n",
       "    </tr>\n",
       "  </tbody>\n",
       "</table>\n",
       "<p>19025 rows × 8 columns</p>\n",
       "</div>"
      ],
      "text/plain": [
       "                      id   value_y  group  language  follower  friend  \\\n",
       "0    1394965330578055168 -0.333333      0         0        29    1389   \n",
       "1    1394965332650045441 -0.063889      0         0       545     906   \n",
       "2    1394965334239629315  0.500000      0         0        52      65   \n",
       "3    1394965335762210823 -0.500000      0         0        44      79   \n",
       "4    1394965341005045760  0.012500      0         0       668     280   \n",
       "..                   ...       ...    ...       ...       ...     ...   \n",
       "265  1395534098538504192 -0.316667      2         0       333     438   \n",
       "266  1395537708622127105  0.075000      2         0       190    1534   \n",
       "267  1395538595960659972  0.600000      2         0       190    1534   \n",
       "268  1395542204479787013  0.116667      2         0       333     438   \n",
       "269  1395545141771857923  0.136364      2         0       333     438   \n",
       "\n",
       "     text length  hour  \n",
       "0            142     0  \n",
       "1            142     0  \n",
       "2             35     0  \n",
       "3            142     0  \n",
       "4             96     0  \n",
       "..           ...   ...  \n",
       "265           37    21  \n",
       "266          142    21  \n",
       "267           81    21  \n",
       "268           60    21  \n",
       "269           92    22  \n",
       "\n",
       "[19025 rows x 8 columns]"
      ]
     },
     "execution_count": 13,
     "metadata": {},
     "output_type": "execute_result"
    }
   ],
   "source": [
    "df_one"
   ]
  },
  {
   "cell_type": "code",
   "execution_count": 14,
   "metadata": {},
   "outputs": [],
   "source": [
    "y=df_one['value_y']\n",
    "X=df_one[['group','language','friend','text length','hour']]"
   ]
  },
  {
   "cell_type": "code",
   "execution_count": 23,
   "metadata": {},
   "outputs": [],
   "source": [
    "from sklearn.model_selection import train_test_split\n",
    "X_train, X_test, y_train, y_test = train_test_split(X, y, test_size=0.3, random_state=42)"
   ]
  },
  {
   "cell_type": "code",
   "execution_count": 24,
   "metadata": {},
   "outputs": [],
   "source": [
    "from sklearn.dummy import DummyRegressor\n",
    "dummy_regr = DummyRegressor(strategy=\"mean\")\n",
    "dummy_regr.fit(X_train, y_train)\n",
    "y_pred=dummy_regr.predict(X_test)"
   ]
  },
  {
   "cell_type": "code",
   "execution_count": 25,
   "metadata": {},
   "outputs": [
    {
     "data": {
      "text/plain": [
       "0.1255251704972349"
      ]
     },
     "execution_count": 25,
     "metadata": {},
     "output_type": "execute_result"
    }
   ],
   "source": [
    "from sklearn.metrics import mean_squared_error\n",
    "mean_squared_error(y_test, y_pred)"
   ]
  },
  {
   "cell_type": "code",
   "execution_count": 26,
   "metadata": {},
   "outputs": [
    {
     "data": {
      "text/plain": [
       "0.12383396042746529"
      ]
     },
     "execution_count": 26,
     "metadata": {},
     "output_type": "execute_result"
    }
   ],
   "source": [
    "from sklearn.linear_model import LinearRegression\n",
    "reg = LinearRegression().fit(X_train, y_train)\n",
    "y_pred=reg.predict(X_test)\n",
    "mean_squared_error(y_test, y_pred)"
   ]
  },
  {
   "cell_type": "code",
   "execution_count": 27,
   "metadata": {},
   "outputs": [
    {
     "data": {
      "text/plain": [
       "0.12513489820821072"
      ]
     },
     "execution_count": 27,
     "metadata": {},
     "output_type": "execute_result"
    }
   ],
   "source": [
    "from sklearn.linear_model import ElasticNet\n",
    "elastic_net = ElasticNet().fit(X_train, y_train)\n",
    "y_pred=elastic_net.predict(X_test)\n",
    "mean_squared_error(y_test, y_pred)"
   ]
  },
  {
   "cell_type": "code",
   "execution_count": 20,
   "metadata": {},
   "outputs": [
    {
     "name": "stdout",
     "output_type": "stream",
     "text": [
      "Fitting 5 folds for each of 77 candidates, totalling 385 fits\n"
     ]
    },
    {
     "name": "stderr",
     "output_type": "stream",
     "text": [
      "[Parallel(n_jobs=-1)]: Using backend LokyBackend with 8 concurrent workers.\n",
      "[Parallel(n_jobs=-1)]: Done  34 tasks      | elapsed:    6.2s\n",
      "[Parallel(n_jobs=-1)]: Done 344 tasks      | elapsed:    8.3s\n"
     ]
    },
    {
     "name": "stdout",
     "output_type": "stream",
     "text": [
      "Best Score:  0.012643854402864751\n",
      "Best Params:  {'alpha': 0.001, 'l1_ratio': 0}\n"
     ]
    },
    {
     "name": "stderr",
     "output_type": "stream",
     "text": [
      "[Parallel(n_jobs=-1)]: Done 385 out of 385 | elapsed:    8.5s finished\n",
      "C:\\Users\\www79\\Anaconda3\\lib\\site-packages\\sklearn\\linear_model\\_coordinate_descent.py:476: ConvergenceWarning: Objective did not converge. You might want to increase the number of iterations. Duality gap: 794.5941586563384, tolerance: 0.16119330031054144\n",
      "  positive)\n"
     ]
    }
   ],
   "source": [
    "from sklearn.model_selection import GridSearchCV\n",
    "alpha = [0.001, 0.01, 0.1, 1, 10, 100, 1000]\n",
    "l1_ratio = [0, 0.1, 0.2, 0.3, 0.4, 0.5, 0.6, 0.7, 0.8, 0.9, 1]\n",
    "param_grid = dict(alpha=alpha, l1_ratio=l1_ratio)\n",
    "grid = GridSearchCV(estimator=elastic_net, param_grid=param_grid, scoring='r2', verbose=1, n_jobs=-1)\n",
    "grid_result = grid.fit(X_train, y_train)\n",
    "print('Best Score: ', grid_result.best_score_)\n",
    "print('Best Params: ', grid_result.best_params_)"
   ]
  },
  {
   "cell_type": "code",
   "execution_count": 21,
   "metadata": {},
   "outputs": [
    {
     "name": "stderr",
     "output_type": "stream",
     "text": [
      "C:\\Users\\www79\\Anaconda3\\lib\\site-packages\\sklearn\\linear_model\\_coordinate_descent.py:476: ConvergenceWarning: Objective did not converge. You might want to increase the number of iterations. Duality gap: 794.5941586563384, tolerance: 0.16119330031054144\n",
      "  positive)\n"
     ]
    },
    {
     "data": {
      "text/plain": [
       "0.12383437430033793"
      ]
     },
     "execution_count": 21,
     "metadata": {},
     "output_type": "execute_result"
    }
   ],
   "source": [
    "elastic_net = ElasticNet(alpha=0.001,l1_ratio=0).fit(X_train, y_train)\n",
    "y_pred=elastic_net.predict(X_test)\n",
    "mean_squared_error(y_test, y_pred)"
   ]
  },
  {
   "cell_type": "code",
   "execution_count": null,
   "metadata": {},
   "outputs": [],
   "source": []
  }
 ],
 "metadata": {
  "kernelspec": {
   "display_name": "Python 3",
   "language": "python",
   "name": "python3"
  },
  "language_info": {
   "codemirror_mode": {
    "name": "ipython",
    "version": 3
   },
   "file_extension": ".py",
   "mimetype": "text/x-python",
   "name": "python",
   "nbconvert_exporter": "python",
   "pygments_lexer": "ipython3",
   "version": "3.7.7"
  }
 },
 "nbformat": 4,
 "nbformat_minor": 4
}
